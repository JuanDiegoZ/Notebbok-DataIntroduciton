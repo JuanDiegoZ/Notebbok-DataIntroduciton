{
 "cells": [
  {
   "cell_type": "markdown",
   "metadata": {},
   "source": [
    "__<h1>Be curious<h1>__\n"
   ]
  },
  {
   "cell_type": "markdown",
   "metadata": {},
   "source": [
    "__The 5 Whys__"
   ]
  },
  {
   "cell_type": "markdown",
   "metadata": {},
   "source": [
    "When analyzing data, you’ll find a problem and need to understand why. The 5 Whys is a valuable technique in problem solving that is easy to remember. You can determine the root cause of a problem by asking the question \"Why?\" five times. "
   ]
  },
  {
   "cell_type": "markdown",
   "metadata": {},
   "source": [
    "First ask a \"Why?\" question, get an answer, and then ask a second \"Why?\" question. And so on! Each answer will inform your next \"Why?\" question. The answer to the fifth \"Why?\" should reveal the root cause of the problem."
   ]
  },
  {
   "cell_type": "markdown",
   "metadata": {},
   "source": [
    "![Alt text](https://vscode-remote%2Bwsl-002bubuntu-002d22-002e04.vscode-resource.vscode-cdn.net/home/jann/IBM_data/Photo_files/2022-11-16_15h07_29.png?version%3D1668629271963)"
   ]
  },
  {
   "cell_type": "markdown",
   "metadata": {},
   "source": [
    "What is a methodology?"
   ]
  },
  {
   "cell_type": "markdown",
   "metadata": {},
   "source": [
    "CRISP-DM, KDD, and SEMMA:\n",
    "\n",
    "Use data mining methods\n",
    "Are best suited for structured data\n",
    "Are useful for using descriptive and predictive analytics\n",
    "Share some common activities, such as data gathering, data transformation, data modeling, and model evaluation\n",
    "Note: These methodologies are not useful on projects that work with unstructured data, such as images and text. \n",
    "\n",
    "You will learn about these widely adopted data science methodologies in upcoming lessons"
   ]
  },
  {
   "cell_type": "markdown",
   "metadata": {},
   "source": [
    "<h3>CRISP-DM<h3>"
   ]
  },
  {
   "cell_type": "markdown",
   "metadata": {},
   "source": [
    "![Alt text](vscode-remote://wsl%2Bubuntu-22.04/home/jann/IBM_data/Photo_files/2022-11-16_15h23_59.png)"
   ]
  },
  {
   "cell_type": "markdown",
   "metadata": {},
   "source": [
    "Founded by the European Strategic Program on Research in Information Technology initiative, CRISP-DM is a proven way to guide data mining efforts. Any industry can use this methodology to help structure a data science project. CRISP-DM is a flexible and comprehensive data science approach."
   ]
  },
  {
   "cell_type": "markdown",
   "metadata": {},
   "source": [
    "CRISP-DM consists of six phases with arrows indicating the most important and frequent dependencies between phases:\n",
    "\n",
    "Business understanding\n",
    "Data understanding\n",
    "Data preparation\n",
    "Modeling\n",
    "Evaluation\n",
    "Deployment\n",
    "The sequence of the phases is not strict. CRISP-DM is iterative, meaning that the phases can be repeated to incrementally improve the result. The results of some stages might require the project cycle to go back to earlier stages.\n",
    "\n",
    "What’s unique to the CRISP-DM methodology is that it begins with Business understanding. This phase focuses on understanding the project objectives and requirements from a business perspective, and defining the data problem to solve. \n",
    "\n",
    "CRISP-DM is among the most popular approaches for data science projects.\n",
    "\n"
   ]
  },
  {
   "cell_type": "markdown",
   "metadata": {},
   "source": [
    "KDD stands for Knowledge Discovery in Database. \n",
    "\n",
    "KDD represents the overall process of collecting data and methodically refining it. KDD typically has five steps:\n",
    "\n",
    "Selection\n",
    "Preprocessing\n",
    "Transformation\n",
    "Data Mining\n",
    "Interpretation/Evaluation\n",
    "Liner diagram of the Knowledge Discovery in Database model showing data goes through the stages of Selection, Pre-processing, Transformation, Data Mining, and Interpretation and Evaluation to have knowledge as the output.\n",
    "KDD methodology\n",
    "\n",
    "The KDD methodology can help businesses stay current with customer needs and behaviors and predict future purchasing trends to stay competitive. But, the process doesn’t address many of the modern realities of data science projects, such as the setup of big data architecture, considerations of ethics, or the various roles in a data science team.\n",
    "\n",
    "KDD is iterative, meaning new data can be integrated and transformed to get different and more appropriate results. The knowledge acquired can be cycled back into the process, enhancing its effectiveness. \n",
    "\n",
    "Source: KDD and Data Mining, Data Science Process Alliance, by Nick Hotz, July 2021"
   ]
  },
  {
   "cell_type": "markdown",
   "metadata": {},
   "source": [
    "![Alt text](https://vscode-remote%2Bwsl-002bubuntu-002d22-002e04.vscode-resource.vscode-cdn.net/home/jann/IBM_data/Photo_files/2022-11-16_15h32_52.png?version%3D1668630814165)"
   ]
  },
  {
   "cell_type": "markdown",
   "metadata": {},
   "source": [
    "<h3>SEMMA<h3>"
   ]
  },
  {
   "cell_type": "markdown",
   "metadata": {},
   "source": [
    "SEMMA stands for its five steps:\n",
    "\n",
    "Sample\n",
    "Explore\n",
    "Modify\n",
    "Model\n",
    "Assess"
   ]
  },
  {
   "cell_type": "markdown",
   "metadata": {},
   "source": [
    "SEMMA is a data science methodology that helps convert data into knowledge. SEMMA can help solve a range of business problems, such as fraud identification, customer retention and turnover, database marketing, customer loyalty, market segmentation, and risk analysis.\n",
    "\n",
    "The SAS Institute developed SEMMA as a process of data mining. SEMMA primarily focuses on the modeling tasks of data mining projects.\n",
    "\n",
    "SEMMA is also an iterative process, in which answering one set of questions often leads to more interesting and more specific questions.\n",
    "\n"
   ]
  },
  {
   "cell_type": "markdown",
   "metadata": {},
   "source": [
    "![Alt text](https://file%2B.vscode-resource.vscode-cdn.net/c%3A/Users/juand/OneDrive/Fotos/Screenpresso/2022-11-16_15h37_34.png?version%3D1668631100897)"
   ]
  },
  {
   "cell_type": "markdown",
   "metadata": {},
   "source": [
    "<h2>Putting it together<h2>"
   ]
  },
  {
   "cell_type": "markdown",
   "metadata": {},
   "source": [
    "The three methodologies are all iterative! This means that the phases or steps can be repeated. Knowledge acquired can be cycled back into the process to gain more or different insights.\n"
   ]
  },
  {
   "cell_type": "markdown",
   "metadata": {},
   "source": [
    "In conclusion, it’s good to know the CRISP-DM, KDD, and SEMMA methodologies for reference and background. Organizations and businesses typically determine their own methodology for a data science project. You’ll learn more about this is an upcoming lesson."
   ]
  },
  {
   "cell_type": "markdown",
   "metadata": {},
   "source": [
    "<h1>Follow a data science methodology<h1>"
   ]
  },
  {
   "cell_type": "markdown",
   "metadata": {},
   "source": [
    "In previous lessons, three well-known data science methodologies were presented. To review, they are Cross-Industry Standard Process for Data Mining (CRISP-DM), Knowledge Discovery in Database (KDD), and Sample, Explore, Modify, Model, Assess (SEMMA). In this lesson, you will explore a data science methodology in depth. "
   ]
  },
  {
   "cell_type": "markdown",
   "metadata": {},
   "source": [
    "Business understanding\n",
    "Data exploration and preparation\n",
    "Data representation and transformation\n",
    "Data visualization and presentation\n",
    "Train data models\n",
    "Deploy data models"
   ]
  },
  {
   "cell_type": "markdown",
   "metadata": {},
   "source": [
    "\n",
    "![Alt text](https://vscode-remote%2Bwsl-002bubuntu-002d22-002e04.vscode-resource.vscode-cdn.net/home/jann/IBM_data/Photo_files/2022-11-16_16h00_43.png?version%3D1668632447330)\n"
   ]
  },
  {
   "cell_type": "markdown",
   "metadata": {},
   "source": [
    "<h3>Business understanding<H3>"
   ]
  },
  {
   "cell_type": "markdown",
   "metadata": {},
   "source": [
    "As part of this method, the data science project team might host a design thinking workshop and apply techniques to:\n",
    "\n",
    "Define the problem\n",
    "Determine the project objectives\n",
    "Develop personas or fictional characters that represent typical end users\n",
    "Document solution requirements from a business perspective"
   ]
  },
  {
   "cell_type": "markdown",
   "metadata": {},
   "source": [
    "Once the business problem is clearly stated, a data scientist on the team defines the analytic approach to solving the problem. This involves expressing the problem in the context of statistical and machine learning techniques. For example, if the goal is to predict a customer’s response in terms of a “yes” or a “no”, then the analytic approach could be defined as building, testing, and implementing something called a logistical regression model. Data scientists are experts who have many technologies and methods in their toolbox!"
   ]
  },
  {
   "cell_type": "markdown",
   "metadata": {},
   "source": [
    "<h2>Data exploration and preparation<h2>"
   ]
  },
  {
   "cell_type": "markdown",
   "metadata": {},
   "source": [
    "Data scientists identify and collect data from existing and often new sources in a business. This could be structured and unstructured data that is relevant to the problem. They might retrieve data from sources such as:\n",
    "\n",
    "Static files, such as spreadsheets\n",
    "Databases \n",
    "The internet\n",
    "Flowchart diagram showing the data science methodology for a project, with the second step, Data Exploration and Preparation, highlighted.\n",
    "Step 2: Data exploration and preparation\n",
    "\n",
    "If a data scientist encounters any issues or gaps in data collection, then the data scientist might need to revise the data requirements and collect more data.\n",
    "\n",
    "Once data is in a format a data scientist needs to work with it, data exploration can begin. The initial exploration of a data set is important because it helps data scientists find patterns and relationships and discover initial insights from the data. Here are a few questions a data scientist might think about during the initial exploration of data:\n",
    "\n",
    "Which data characteristics seem promising for further analysis?\n",
    "Has exploring revealed new characteristics about the data?\n",
    "Has exploring changed the initial hypothesis?\n",
    "Next, the data scientist next prepares the data. Data preparation is very important and the most time-consuming step in a data science project. It involves constructing the data set that will be used in the modeling step. Data preparation also includes cleaning the data, combining data from multiple sources, and making sure the data doesn’t have any gaps. Additionally, data preparation includes cleaning or “wrangling” the data so it’s ready to transform. \n",
    "\n",
    "Data scientists can’t assume that data is ready to use, even if it’s structured data. Real-world data usually needs some work because it might be: \n",
    "\n",
    "Incomplete or have incorrect values \n",
    "Corrupted with broken lines or have fields in the wrong place \n",
    "Too random\n",
    "Irrelevant \n",
    "An outlier, which is a value that lies far away from other values and will skew the data\n",
    "A missing value in some fields\n",
    "Manually verifying large volumes of stored data can be challenging for data scientists. So, data scientists use automated processes and tools to prepare data quickly and accurately.\n",
    "\n",
    "Project scenario: Data exploration and preparation\n",
    "\n",
    "Scott Hill, the team data scientist, has a meeting with Lena, the GAXR database administrator, to get her guidance on the types of data that the human resources group collects for its employees. Scott reviews and determines the employee data set he wants, such as:\n",
    "\n",
    "First name\n",
    "Last name\n",
    "Age\n",
    "Department\n",
    "Distance from home (to work in kilometers)\n",
    "Hourly rate\n",
    "Daily rate\n",
    "Monthly income\n",
    "Marital status\n",
    "Image of a magnifying glass on a spreadsheet\n",
    "Scott uses Structured Query Language (SQL) to move the data he needs for the project into a CSV file. \n",
    "\n",
    "SQL is the most common language for extracting, organizing, and managing data in a relational database to then perform various operations on the data. \n",
    "A comma separated values (CSV) file allows data to be saved in a tabular format.  \n",
    "Here is the CSV file that Scott is cleaning up:\n",
    "\n",
    "CSV file depicting GAXR employee data\n",
    "Each line of the file is a data record for one GAXR employee.  \n",
    "\n",
    "Next, Scott cleans the data! For instance, he removes the Employee Count field since all GAXR employees have the value of 1 (because each line is for one (1) employee). This is unnecessary data. Scott also updates the Hourly Rate field and all other monetary fields to remove decimal places and round up to the nearest US dollar.\n",
    "\n",
    "Scott also removes personal information (PI) since it’s not pertinent to his data science project. This includes the First Name and Last Name fields. \n",
    "\n",
    "In order to run data comparisons in the tool, Scott also removes columns that are not helpful in making predictions, such as the Telephone Number. \n",
    "\n",
    "Additionally, Scott ensures there aren’t any gaps and that he has enough data. In all, he has 1470 employee records to use for his analysis. He revisits and confirms his hypothesis: Employees are resigning from GAXR because they need a higher salary in today’s economy."
   ]
  },
  {
   "cell_type": "markdown",
   "metadata": {},
   "source": [
    "<h2>Data representation and transformation<h2>"
   ]
  },
  {
   "cell_type": "markdown",
   "metadata": {},
   "source": [
    "The data representation and transformation step in the data science methodology is about:\n",
    "\n",
    "Understanding the data \n",
    "Assessing data quality\n",
    "Discovering initial insights about the data"
   ]
  },
  {
   "cell_type": "markdown",
   "metadata": {},
   "source": [
    "Descriptive statistics\n",
    "\n",
    "To understand data, a data scientist can use a mathematical approach, such as descriptive statistics. Descriptive statistics quantitatively summarizes a data set. It can answer the question, “What is happening?” Data scientists can build a table to describe a large, complex data set and make quick observations about:\n",
    "\n",
    "Number (N): What is the total number of observations?\n",
    "Mean: What is the average of a set of two or more numbers?\n",
    "Median: What is the middle number or “center” in a sorted list of numbers? \n",
    "Mode: What is the most observed value in a data set?\n",
    "Minimum: What is the minimum extreme of a data set?\n",
    "Maximum: What is the maximum extreme of a data set?\n",
    "Standard deviation: How spread out is the data in relation to the mean?\n",
    "For instance, the following table indicates the mean household income in US dollars for a company’s customers, based on their education level. The data is fictitious and for illustrative purposes."
   ]
  },
  {
   "cell_type": "markdown",
   "metadata": {},
   "source": [
    "Expand for some more thoughts\n",
    "–\n",
    "Descriptive statistics can begin to reveal insights. For example, the table data suggests that the household income will be higher as the education level increases. Descriptive statistics can quickly provide a data scientist with an overall sense of the data being analyzed."
   ]
  },
  {
   "cell_type": "markdown",
   "metadata": {},
   "source": [
    "Exploratory visualizations\n",
    "\n",
    "Sometimes, statistics can be misleading when on their own, so it's important to have other techniques. Data scientists also use exploratory visualizations. Exploratory visualizations help make complex data more accessible and revealing. Data scientists use initial visualizations, like charts, graphs, and maps, to uncover distributions, find patterns, and understand trends.\n",
    "\n",
    "Abstract representation of different visualizations, including a pie chart and line chart.\n",
    "Descriptive statistics, visualization techniques, and many other techniques help data scientists understand data and assess its quality. Data science teams must validate the quality of the data they use as input for predictive modeling because poor quality data will lead to poor model performance later in the process. \n",
    "\n",
    "Transforming data with machine learning\n",
    "\n",
    "Data representation is followed by data transformation. Regardless of the format of the source data, a data scientist structures and organizes data in a format that supports the most efficient machine-learning model possible. Machine learning is a branch of artificial intelligence (AI) and computer science that focuses on using data and algorithms to imitate the way that humans learn, gradually improving its accuracy. Machine-learning models understand only numbers, not text or images, so data scientists might need to transform unstructured data into a “0” or “1”. \n",
    "\n",
    "For instance, a data scientist can break up text into words, phrases, symbols, or other meaningful elements called tokens. Then, a list of tokens becomes input for further processing into numbers. This technique is called tokenization, which is one of many data transformation techniques.\n",
    "\n",
    "Data scientists also use data transformation tools and languages, like Python, to conduct more in-depth analysis and create more complex visualizations. They perform programmatical activities on the data formatting, including depicting which models may be the best fit for the data. \n",
    "\n",
    "To make analysis easier, data scientists often need to standardize data into model-friendly formats so that it’s “tidy data” rather than “messy data”.\n",
    "\n",
    "Data scientists might need to refine their analytics approach they selected in the Business understanding step."
   ]
  },
  {
   "cell_type": "markdown",
   "metadata": {},
   "source": [
    "<h2>Data visualization and presentation<h2>"
   ]
  },
  {
   "cell_type": "markdown",
   "metadata": {},
   "source": [
    "Data visualization is the culmination of a data science team’s efforts to view the insights that their data transformation efforts have produced. \n",
    "\n",
    "Visualizations help data scientists test their hypotheses and check assumptions. \n",
    "\n",
    "The data needs to tell a story and address the business problem or question that a project is trying to answer!\n",
    "\n",
    "Flowchart diagram showing the data science methodology for a project, with the fourth step, Data visualization and presentation, highlighted.\n",
    "Step 4: Data visualization and presentation\n",
    "\n",
    "The data science team uses software to help visualize and conclude final insights from the data. The goal is to have a visualization that’s effective, attractive, and impactive.\n",
    "\n",
    "Types of data visualization\n",
    "\n",
    "One type of visualization can display data in a better way compared to another type of visualization. Here are some of these types of visualizations.\n",
    "\n",
    "Select each card for an overview and example of five common charts used for data visualization. \n",
    "\n",
    "\n",
    "\n",
    "\n",
    "\n",
    "\n",
    "\n",
    "\n",
    "\n",
    "\n",
    "\n",
    "\n",
    "\n",
    "\n",
    "\n",
    "\n",
    "5 of 5\n",
    "\n",
    "It has been said that “a picture is worth a thousand words.” This is particularly true when creating a data visualization. A single chart can answer quite a few questions. These graphical representations can help clarify and simplify complicated issues.\n",
    "\n",
    "Considerations for data presentation\n",
    "\n",
    "The final data presentation must be meaningful, compelling, and, most importantly, easy to interpret for the business sponsor. A team's presentation design must go beyond just showing results and the look of the data visualization or visualizations. The team must consider the:\n",
    "\n",
    "Purpose: What problem are you trying to address and why will data visualization help to solve it?\n",
    "Audience: Who is viewing the presentation and how can it be valuable to them?\n",
    "Data: Is the data represented in the best way and will the visualization need to be updated in the future?\n",
    "Context: Where will the visualization reside (for example, in software, on a website, or in a business report)?\n",
    "Remember, the data visualization and project presentation must answer the current business problem and share a proposed solution with the business sponsor.\n",
    "\n",
    "Explore more!\n",
    "\n",
    "Check out these resources:\n",
    "\n",
    "From Data to Viz – an online tool to learn more about charts and help determine the most appropriate graph for data\n",
    "How to Choose the Right Data Visualization – a data tutorial from Chartio (Atlassian) by Mike Yi and Mel Restori \n",
    "Viz of the Day – a site from Tableau Public that features visualizations shared by people around the world\n",
    "Project scenario: Data visualization and presentation\n",
    "\n",
    "Scott Hill, the team data scientist, is ready to find insights and discuss a solution to GAXR’s business problem!\n",
    "\n",
    "First, Scott uses a data visualization tool to refine and study the data. Scott finds the best chart to represent the data. The chart helps him make a conclusion.\n",
    "\n",
    "Scott concludes that employees who live far away from GAXR do not seem to stay at the company long-term. The Distance From Home field, on its own, didn’t show this, but the visualization does!\n",
    "\n",
    "Image of a man presenting with a whiteboard\n",
    "The best data visualization of this data is a scatter plot chart with an S-curve. This visualization shows the relationship between two variables:\n",
    "\n",
    "How one variable impacts another \n",
    "How the value of both variables changes because of this impact"
   ]
  }
 ],
 "metadata": {
  "kernelspec": {
   "display_name": "Python 3.10.6 64-bit",
   "language": "python",
   "name": "python3"
  },
  "language_info": {
   "codemirror_mode": {
    "name": "ipython",
    "version": 3
   },
   "file_extension": ".py",
   "mimetype": "text/x-python",
   "name": "python",
   "nbconvert_exporter": "python",
   "pygments_lexer": "ipython3",
   "version": "3.10.6"
  },
  "orig_nbformat": 4,
  "vscode": {
   "interpreter": {
    "hash": "916dbcbb3f70747c44a77c7bcd40155683ae19c65e1c03b4aa3499c5328201f1"
   }
  }
 },
 "nbformat": 4,
 "nbformat_minor": 2
}
