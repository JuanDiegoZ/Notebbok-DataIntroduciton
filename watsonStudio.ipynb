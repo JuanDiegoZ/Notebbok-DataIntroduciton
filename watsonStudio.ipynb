{
 "cells": [
  {
   "cell_type": "markdown",
   "metadata": {},
   "source": [
    "As you’ve learned, IBM Watson Studio gives data scientists:\n",
    "\n",
    "A streamlined process for data projects\n",
    "A collaborative data science and machine learning environment\n",
    "Easy-to-create visualizations\n",
    "Access to open source tools\n",
    "A way to develop, train, manage, and deploy AI-powered applications\n",
    "IBM Watson Studio is a comprehensive, all-in-one environment to explore more of what's possible with data and artificial intelligence (AI)."
   ]
  },
  {
   "cell_type": "markdown",
   "metadata": {},
   "source": [
    "## Data refinery tool"
   ]
  },
  {
   "cell_type": "markdown",
   "metadata": {},
   "source": [
    "IBM Watson Studio offers many tools, including the data refinery tool. It’s beneficial because it saves data preparation time. It can quickly transform large amounts of raw data into consumable, high-quality information that’s ready for analytics.\n",
    "\n",
    "With it, data scientists can:\n",
    "\n",
    "Create a workflow to clean and shape data\n",
    "Understand the quality and distribution of data using dozens of built-in charts, graphs, and statistics\n",
    "Schedule data jobs for repeatable outcomes\n",
    "Visualize data to discover insights\n",
    "The data refinery tool is interactive and easy to use. You don’t need coding skills. Over 100 built-in operations are available to help you transform data!\n",
    "\n",
    "Next, you’re going to experience how the data refinery tool in IBM Watson Studio works.\n",
    "\n"
   ]
  },
  {
   "cell_type": "markdown",
   "metadata": {},
   "source": [
    "## About this module."
   ]
  },
  {
   "cell_type": "markdown",
   "metadata": {},
   "source": [
    "### Start your project"
   ]
  },
  {
   "cell_type": "markdown",
   "metadata": {},
   "source": [
    "#### Mi data science project"
   ]
  },
  {
   "cell_type": "markdown",
   "metadata": {},
   "source": [
    "Business problem and goal\n",
    "You are a data scientist who works at an auto insurance company. The director of the Fraud Claims Department is kicking off a new data science project. She is your business sponsor.\n",
    "\n",
    " \n",
    "\n",
    "You learn that:\n",
    "\n",
    "The Fraud Claims Department improved the customer experience by offering online and mobile platforms to submit automobile insurance claims.\n",
    "That means the company can execute transactions more quickly, but this leaves the claim processors with less time to identify and counteract fraud.\n",
    "Fraud is a pain point and growing concern because the company has already lost millions of dollars.\n",
    "The goal of the project is to predict fraud and suspicious activity to help drastically reduce losses due to fraud."
   ]
  },
  {
   "cell_type": "markdown",
   "metadata": {},
   "source": [
    "Your to-do list\n",
    "Using IBM Watson Studio and the data refinery tool, you will:\n",
    "\n",
    "Provision the Watson Studio Service\n",
    "Set up a new project\n",
    "Import auto insurance claims data\n",
    "Clean the data set\n",
    "Refine the data set\n",
    "Create and study a data visualization to gain insights"
   ]
  },
  {
   "cell_type": "markdown",
   "metadata": {},
   "source": [
    "### Your data set\n",
    "You are using a fictitious data set. It’s based on a real auto insurance company’s recording of events.\n",
    "It’s a comma-separated values (CSV) file in which each row is a data record.\n",
    "There are 975 rows and 38 columns of data.\n",
    "Each row contains a single person’s claim data. The person submitted a claim for auto repairs after an accident. Your auto insurance company approved all of these claims already."
   ]
  },
  {
   "cell_type": "markdown",
   "metadata": {},
   "source": [
    "Keep this information in mind about auto insurance\n",
    "Drivers usually sign a six-month policy with an auto insurance policy.\n",
    "Each month, or all at once, the driver pays a fee, or premium, to the company.\n",
    "A few things determine the cost of the policy, such as:\n",
    "The type of car insured, particularly its safety record and how expensive it is to repair\n",
    "The driver’s record, for instance, the more speeding tickets the driver has incurred, the riskier the driver is\n",
    "The driver’s age, for instance, teenagers cost more to insure because they’re less experienced drivers, and therefore a bigger risk\n",
    "Lower-cost premiums are enjoyed by drivers with fewer accidents and tickets on their records, part-time drivers who don’t drive very much, people who take driver education courses, and families with multiple cars."
   ]
  },
  {
   "cell_type": "markdown",
   "metadata": {},
   "source": [
    "## Understand and clean the data"
   ]
  },
  {
   "cell_type": "markdown",
   "metadata": {},
   "source": [
    "Good work so far!\n",
    "\n",
    "The steps you just completed to understand and clean your data set took time. It’s an important and time-consuming step in a data science project. Data analysts and data scientists spend a lot of time on this type of work.\n",
    "\n",
    "You got a lot of practice!\n",
    "\n",
    "You used the Data tab to review many of the columns to better understand the data you’re working with to research your company’s business problem about fraudulent claims.\n",
    "You determined which columns to keep that have predictable data that could help you predict fraud, such as the incident cause and any columns with time and date information.\n",
    "You determined which columns to remove that don’t have predictable data, such as those that are missing data, identification numbers, and personal information.\n",
    "You used the Profile tab to check out the descriptive statistics, such as standard deviation, that the data refinery tool provides. These statistics helped you decide if a column is interesting and could have predictive data that you should keep.\n",
    "You also corrected the data type in a column to make sure the tool can make calculations and ensure this is a good data set for your project."
   ]
  },
  {
   "cell_type": "markdown",
   "metadata": {},
   "source": [
    "predictability\n",
    "10000\n",
    "EXCESSIVE_CLAIM_AMOUNT\n",
    "To investigate the hypothesis that claims for repairs over $10K might be fraudulent and might help predict fraud. "
   ]
  },
  {
   "cell_type": "markdown",
   "metadata": {},
   "source": [
    "Visualizing data in graphical ways provides insights into your data. You can explore data from different perspectives using visualizations. They help you identify patterns, connections, and relationships within that data very quickly.\n",
    "\n",
    "Note: At any time after you’ve added data to the data refinery tool in IBM Watson Studio, you can visualize your data using the Visualizations tab.\n",
    "\n",
    "You’ve prepared and cleaned your data, so you’re ready for a preliminary visualization of how certain dependent and independent variables (think columns) tell the tale of fraudulent behavior. Let’s visualize your data points to see what insights you can conclude!\n",
    "\n",
    "In this simulation, you’ll use IBM Watson Studio with the data refinery tool to perform the steps to visualize the data so you can conclude insights. There are 15 steps to complete."
   ]
  },
  {
   "cell_type": "markdown",
   "metadata": {},
   "source": [
    "Let’s reflect on this data science project for your auto insurance company.\n",
    "\n",
    "Fraud is a pain point and growing concern because your company has already lost millions of dollars.\n",
    "The goal of the project is to predict fraud and suspicious activity to help drastically reduce losses due to fraud.\n",
    "You worked in IBM Watson Studio with the data refinery tool to understand, clean, and refine a data set of claims from 975 customers.\n",
    "The business sponsor shared a hypothesis that auto insurance claims for repairs over $10K might be fraudulent and might help predict fraud.\n",
    "And, the following screen capture is the data visualization you created and explored to conclude insights."
   ]
  },
  {
   "cell_type": "markdown",
   "metadata": {},
   "source": [
    "IBM Watson Studio is an integrated development environment (IDE) that offers the data refinery tool to clean, shape, and visualize data.  \n",
    "\n",
    "2\n",
    "\n",
    "2\n",
    "The goal of your data science project is to predict fraud and suspicious activity to help drastically reduce losses due to fraud. Fraud is a pain point for the auto insurance company.\n",
    "\n",
    "3\n",
    "\n",
    "3\n",
    "You worked with a data set of fictitious auto insurance claims with 975 rows and 38 columns.\n",
    "\n",
    "4\n",
    "\n",
    "4\n",
    "You had the opportunity for hands-on practice in simulations of IBM Watson Studio and the data refinery tool to:\n",
    "\n",
    "Provision the Watson Studio Service\n",
    "Set up a new project\n",
    "Import auto insurance claims data\n",
    "Clean the data set\n",
    "Refine the data set\n",
    "Create and study a data visualization to gain insights      \n",
    "5\n",
    "\n",
    "5\n",
    "You considered the business sponsor’s hypothesis and concluded insights from the data visualization you created."
   ]
  }
 ],
 "metadata": {
  "kernelspec": {
   "display_name": "Python 3.10.6 64-bit",
   "language": "python",
   "name": "python3"
  },
  "language_info": {
   "codemirror_mode": {
    "name": "ipython",
    "version": 3
   },
   "file_extension": ".py",
   "mimetype": "text/x-python",
   "name": "python",
   "nbconvert_exporter": "python",
   "pygments_lexer": "ipython3",
   "version": "3.10.6"
  },
  "orig_nbformat": 4,
  "vscode": {
   "interpreter": {
    "hash": "916dbcbb3f70747c44a77c7bcd40155683ae19c65e1c03b4aa3499c5328201f1"
   }
  }
 },
 "nbformat": 4,
 "nbformat_minor": 2
}
