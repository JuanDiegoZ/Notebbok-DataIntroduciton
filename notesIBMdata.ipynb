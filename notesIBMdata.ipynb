{
 "cells": [
  {
   "cell_type": "markdown",
   "metadata": {},
   "source": [
    "<h1>Why is data important?<h1>\n"
   ]
  },
  {
   "cell_type": "markdown",
   "metadata": {},
   "source": [
    "__Our world is rich with data__\n",
    "\n",
    "__Data is critical for business and has big value.__\n",
    "\n",
    "__Data can be a life saver__\n",
    "\n",
    "__Data is a problem solver__\n"
   ]
  },
  {
   "cell_type": "markdown",
   "metadata": {},
   "source": [
    "It´s estimated that the world creates 2.5 quintillion bytes of data every day. A quintiliion is  the number 1 follewd by 18 zeros!! That´s a big 'wow factor'!\n"
   ]
  },
  {
   "cell_type": "markdown",
   "metadata": {},
   "source": [
    "![Alt text](vscode-remote://wsl%2Bubuntu-22.04/home/jann/IBM_data/Photo_files/ttdmLlO8aM5gbFIj_DjaOfbDSSL9BzRVS.png)"
   ]
  },
  {
   "cell_type": "markdown",
   "metadata": {},
   "source": [
    "<h2>In data analisis we make strucutre the data in wo forms, Structured data or untructured data.<h2>"
   ]
  },
  {
   "cell_type": "markdown",
   "metadata": {},
   "source": [
    "Unstructured data\n",
    "\n",
    "Unstructured data refers to “everything else”. There is no predefined format. Unstructured data lacks any built-in organization, or structure. It’s a conglomeration of varied types of data that are stored in their original formats.  \n",
    "\n",
    "Examples of unstructured data include images, texts, social media posts, like tweets, customer comments, medical records, and even song lyrics.\n",
    "\n",
    "Here are two examples to help you understand the difference between unstructured and structured data.\n",
    "\n",
    "A Department of Motor Vehicles takes photographs of everyone who gets a driver’s license.\n",
    "A collection of those photographs is unstructured data.\n",
    "A table of peoples’ names, addresses, and license numbers that indexes those photos is structured data.\n",
    "A downloadable library offers text from thousands of different books.\n",
    "The text of those books is unstructured data.\tThe catalog listing names, authors, and dates of those books is structured data.\n"
   ]
  },
  {
   "cell_type": "markdown",
   "metadata": {},
   "source": [
    "__Structured data__\n",
    "Information that can be organized in rows and columnms.\n",
    "Perhaps you've seen structured data in a spreadsheet, like Google Sheets or Microsoft Excel. For complex information, data analysts use tools like Structured Query Language (SQL) which can sort through vast amounts of data stored in many connected tables. If you can organize information within data into groups, based on specific characteristics, then those groups are structured data."
   ]
  },
  {
   "cell_type": "markdown",
   "metadata": {},
   "source": [
    "Keep in mind\n",
    "\n",
    "Unstructured data can be harder to work with compared to structured data. Yet unstructured data reveals what people don’t know—the unknowns. Insights are often obtained by analyzing unstructured data. \n",
    "\n",
    "Suppose a software company is getting a lot of email bug reports about a new release. The text of those emails is unstructured data. But, by examining those texts (and perhaps by converting some of their contents to structured data), a data analyst can figure out patterns, such as the sentiment of the text, and identify the problem so the company can fix it!"
   ]
  },
  {
   "cell_type": "markdown",
   "metadata": {},
   "source": [
    "![Alt text](vscode-remote://wsl%2Bubuntu-22.04/home/jann/IBM_data/Photo_files/2022-11-04_14h31_47.png)"
   ]
  },
  {
   "cell_type": "markdown",
   "metadata": {},
   "source": [
    "__Steps to analize data__"
   ]
  },
  {
   "cell_type": "markdown",
   "metadata": {},
   "source": [
    "Data analysis is the process of collecting, cleaning. and transaforming data to obtain insights to help make better and informed decisions. In our ever-growing, data-driven world, this is a must for companies of all sizes to solve everyday business problems. Each company has its own team, processes, and tools for data analysis projects.\n",
    "\n",
    "![Alt text](https://vscode-remote%2Bwsl-002bubuntu-002d22-002e04.vscode-resource.vscode-cdn.net/home/jann/IBM_data/Photo_files/2022-11-10_11h00_33.png?version%3D1668096039644)"
   ]
  },
  {
   "cell_type": "markdown",
   "metadata": {},
   "source": [
    "Good to know! Extract, transform, and load (ETL)\n",
    "\n",
    "You may hear the term “ETL” used in computer-based work environments, in relation to data, data warehousing, and analytics. ETL is an acronym for extract, transform, and load (ETL).\n",
    "\n",
    "ETL is a data integration process that combines data from multiple data sources into a single, consistent data store that is loaded into a data warehouse or other target system.\n",
    "\n",
    "As databases grew in popularity in the 1970s, ETL was introduced as a process for integrating and loading data for computation and analysis, eventually becoming the primary method to process data for data warehousing projects.\n",
    "\n",
    "ETL provides the foundation for data analytics and machine learning workstreams. Organizations often use ETL to:\n",
    "\n",
    "Extract data from legacy systems\n",
    "Cleanse the data to improve data quality and establish consistency\n",
    "Load data into a target database"
   ]
  },
  {
   "cell_type": "markdown",
   "metadata": {},
   "source": [
    "<h2>Visualize and tell a story<h2>"
   ]
  },
  {
   "cell_type": "markdown",
   "metadata": {},
   "source": [
    "What good is data if you can’t communicate about it in a way that people understand? This is where visualizations come into play. A data visualization is a graphical display of abstract or complex information. Data analysts use visualizations like charts, graphs, and maps for two reasons:\n",
    "\n",
    "To explore and interpret data during analysis to identify patterns or trends\n",
    "To communicate results and help people understand the insights to make decisions\n"
   ]
  },
  {
   "cell_type": "markdown",
   "metadata": {},
   "source": [
    "<h2>Tell a compelling data story<h2>"
   ]
  },
  {
   "cell_type": "markdown",
   "metadata": {},
   "source": [
    "You can tell a story about data! The goal is to have a visual that’s effective, attractive, and impactive. What’s amazing is that, ultimately, data visualizations turn numbers into narratives.\n",
    "\n",
    "Data storytelling is the process of converting data analyses into a simple, understandable story to influence a business decision. With the rise of digital business and data-driven decision making, data storytelling is an important skill. The idea is to “connect the dots” between the results and decision makers, who must be able to interpret the data.\n",
    "\n",
    "Data storytelling involves a combination of data, visualizations, and narrative.\n",
    "\n",
    "When narrative is coupled with data, it explains to the audience what is happening in the data and why an insight is important.\n",
    "When visualizations are applied to data, they enlighten an audience with insights that they might not obtain without charts or graphs. Patterns and trends emerge from all the rows and columns in a database, with the help of data visualizations.\n",
    "When narrative and visualizations come together, they can create a data story that can influence, drive change, and engage an audience."
   ]
  },
  {
   "cell_type": "markdown",
   "metadata": {},
   "source": [
    "__Types of visualizations__\n",
    "\n",
    "![Alt text](https://vscode-remote%2Bwsl-002bubuntu-002d22-002e04.vscode-resource.vscode-cdn.net/home/jann/IBM_data/Photo_files/2022-11-10_11h18_04.png?version%3D1668097096813)"
   ]
  },
  {
   "cell_type": "markdown",
   "metadata": {},
   "source": [
    "![Alt text](vscode-remote://wsl%2Bubuntu-22.04/home/jann/IBM_data/Photo_files/2022-11-10_11h21_20.png)\n",
    "\n",
    "\n",
    "\n",
    "\n"
   ]
  },
  {
   "cell_type": "markdown",
   "metadata": {},
   "source": [
    "<h1>Key points to remember<h1>"
   ]
  },
  {
   "cell_type": "markdown",
   "metadata": {},
   "source": [
    "It’s important for businesses across industries to find insights to potentially improve operations, get a better understanding of customers or end users, increase profits, and much more.\n",
    "\n",
    "2\n",
    "\n",
    "2\n",
    "Data analysis is the process of collecting, cleaning, and transforming data to obtain insights to help make better and informed decisions.\n",
    "\n",
    "3\n",
    "\n",
    "3\n",
    "Structured data can be organized in databases with many columns and rows. Unstructured data lacks organization and can be data such as tweets, customer comments, medical records, and so on.\n",
    "\n",
    "4\n",
    "\n",
    "4\n",
    "Quantitative data means you can count it and it’s numerical. Qualitative data means you can't count it, and it’s not numerical. When you think of qualitative data, think “quality”—something you can categorize about data instead.\n",
    "\n",
    "5\n",
    "\n",
    "5\n",
    "Big data is characterized by the 5 V’s: Volume, Variety, Velocity, Veracity, and Value.\n",
    "\n",
    "6\n",
    "\n",
    "6\n",
    "There are four types of data analytics that answer key questions, build on each other, and increase in complexity:\n",
    "\n",
    "Descriptive\n",
    "Diagnostic\n",
    "Predictive\n",
    "Prescriptive\n",
    "7\n",
    "\n",
    "7\n",
    "While there is no single, defined data analysis process, these are the typical steps to follow:\n",
    "\n",
    "Collect\n",
    "Clean\n",
    "Analyze\n",
    "Visualize\n",
    "8\n",
    "\n",
    "8\n",
    "A data visualization, such as a chart, graph, or map, helps you explore and interpret data during analysis to identify patterns or trends, communicate results, and help people understand the insights to make decisions.\n",
    "\n",
    "9\n",
    "\n",
    "9\n",
    "One type of visualization can display data in a better way, compared to another type of visualization. The goal is to have a visualization that’s effective, attractive, and impactive."
   ]
  }
 ],
 "metadata": {
  "kernelspec": {
   "display_name": "Python 3.10.6 64-bit",
   "language": "python",
   "name": "python3"
  },
  "language_info": {
   "name": "python",
   "version": "3.10.6"
  },
  "orig_nbformat": 4,
  "vscode": {
   "interpreter": {
    "hash": "916dbcbb3f70747c44a77c7bcd40155683ae19c65e1c03b4aa3499c5328201f1"
   }
  }
 },
 "nbformat": 4,
 "nbformat_minor": 2
}
