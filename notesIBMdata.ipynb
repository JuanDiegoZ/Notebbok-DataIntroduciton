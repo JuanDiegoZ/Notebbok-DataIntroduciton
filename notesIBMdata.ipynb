{
 "cells": [
  {
   "cell_type": "markdown",
   "metadata": {},
   "source": [
    "<h1>Why is data important?<h1>\n"
   ]
  },
  {
   "cell_type": "markdown",
   "metadata": {},
   "source": [
    "__Our world is rich with data__\n",
    "\n",
    "__Data is critical for business and has big value.__\n",
    "\n",
    "__Data can be a life saver__\n",
    "\n",
    "__Data is a problem solver__\n"
   ]
  },
  {
   "cell_type": "markdown",
   "metadata": {},
   "source": [
    "It´s estimated that the world creates 2.5 quintillion bytes of data every day. A quintiliion is  the number 1 follewd by 18 zeros!! That´s a big 'wow factor'!\n"
   ]
  },
  {
   "cell_type": "markdown",
   "metadata": {},
   "source": [
    "![Alt text](vscode-remote://wsl%2Bubuntu-22.04/home/jann/IBM_data/Photo_files/ttdmLlO8aM5gbFIj_DjaOfbDSSL9BzRVS.png)"
   ]
  },
  {
   "cell_type": "markdown",
   "metadata": {},
   "source": [
    "<h2>In data analisis we make strucutre the data in wo forms, Structured data or untructured data.<h2>"
   ]
  },
  {
   "cell_type": "markdown",
   "metadata": {},
   "source": [
    "Unstructured data\n",
    "\n",
    "Unstructured data refers to “everything else”. There is no predefined format. Unstructured data lacks any built-in organization, or structure. It’s a conglomeration of varied types of data that are stored in their original formats.  \n",
    "\n",
    "Examples of unstructured data include images, texts, social media posts, like tweets, customer comments, medical records, and even song lyrics.\n",
    "\n",
    "Here are two examples to help you understand the difference between unstructured and structured data.\n",
    "\n",
    "A Department of Motor Vehicles takes photographs of everyone who gets a driver’s license.\n",
    "A collection of those photographs is unstructured data.\n",
    "A table of peoples’ names, addresses, and license numbers that indexes those photos is structured data.\n",
    "A downloadable library offers text from thousands of different books.\n",
    "The text of those books is unstructured data.\tThe catalog listing names, authors, and dates of those books is structured data.\n"
   ]
  },
  {
   "cell_type": "markdown",
   "metadata": {},
   "source": [
    "__Structured data__\n",
    "Information that can be organized in rows and columnms.\n",
    "Perhaps you've seen structured data in a spreadsheet, like Google Sheets or Microsoft Excel. For complex information, data analysts use tools like Structured Query Language (SQL) which can sort through vast amounts of data stored in many connected tables. If you can organize information within data into groups, based on specific characteristics, then those groups are structured data."
   ]
  },
  {
   "cell_type": "markdown",
   "metadata": {},
   "source": [
    "Keep in mind\n",
    "\n",
    "Unstructured data can be harder to work with compared to structured data. Yet unstructured data reveals what people don’t know—the unknowns. Insights are often obtained by analyzing unstructured data. \n",
    "\n",
    "Suppose a software company is getting a lot of email bug reports about a new release. The text of those emails is unstructured data. But, by examining those texts (and perhaps by converting some of their contents to structured data), a data analyst can figure out patterns, such as the sentiment of the text, and identify the problem so the company can fix it!"
   ]
  },
  {
   "cell_type": "markdown",
   "metadata": {},
   "source": [
    "![Alt text](vscode-remote://wsl%2Bubuntu-22.04/home/jann/IBM_data/Photo_files/2022-11-04_14h31_47.png)"
   ]
  }
 ],
 "metadata": {
  "kernelspec": {
   "display_name": "Python 3.10.6 64-bit",
   "language": "python",
   "name": "python3"
  },
  "language_info": {
   "name": "python",
   "version": "3.10.6"
  },
  "orig_nbformat": 4,
  "vscode": {
   "interpreter": {
    "hash": "916dbcbb3f70747c44a77c7bcd40155683ae19c65e1c03b4aa3499c5328201f1"
   }
  }
 },
 "nbformat": 4,
 "nbformat_minor": 2
}
